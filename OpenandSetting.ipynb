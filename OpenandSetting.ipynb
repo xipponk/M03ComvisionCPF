{
 "cells": [
  {
   "cell_type": "code",
   "execution_count": 1,
   "id": "2fd3ab02-86a2-4bf9-a5cc-f6371522ff59",
   "metadata": {},
   "outputs": [
    {
     "name": "stdout",
     "output_type": "stream",
     "text": [
      "(228, 350)\n",
      "Image height: 228 pixels\n",
      "Image width: 350 piexels\n",
      "(228, 350, 3)\n",
      "Image height: 228 pixels\n",
      "Image width: 350 piexels\n",
      "Image has 3 channels\n",
      "[254 254 254]\n",
      "Pixel at (0,0) - Red 254, Green 254, Blue 254\n"
     ]
    }
   ],
   "source": [
    "import cv2\n",
    "from matplotlib import pyplot as plt\n",
    "\n",
    "# Set path to image\n",
    "path = 'images/trex.png'\n",
    "# Read image to variable\n",
    "image1 = cv2.imread(path)\n",
    "image2 = cv2.cvtColor(image1, cv2.COLOR_BGR2RGB)\n",
    "\n",
    "#image1 -> BGR\n",
    "#image2 -> RGB\n",
    "\n",
    "#gray = cv2.cvtColor(image, cv2.COLOR_BGR2GRAY)\n",
    "\n",
    "cv2.startWindowThread()\n",
    "# Show image\n",
    "cv2.imshow(\"Trex image\", image)\n",
    "cv2.imshow(\"Gray Trex\", gray)\n",
    "cv2.waitKey(0)\n",
    "\n",
    "print(gray.shape)\n",
    "print(\"Image height: {} pixels\".format(gray.shape[0]))\n",
    "print(\"Image width: {} piexels\".format(gray.shape[1]))\n",
    "#print(\"Image has {} channels\".format(gray.shape[2]))\n",
    "\n",
    "print(image.shape)\n",
    "print(\"Image height: {} pixels\".format(image.shape[0]))\n",
    "print(\"Image width: {} piexels\".format(image.shape[1]))\n",
    "print(\"Image has {} channels\".format(image.shape[2]))\n",
    "\n",
    "print(image[0,0])\n",
    "(b, g, r) = image[0, 0]\n",
    "print(\"Pixel at (0,0) - Red {}, Green {}, Blue {}\".format(r, g, b))\n",
    "\n",
    "#image[y, x]\n",
    "image[114,175] = (0, 0, 255)\n",
    "cv2.imshow(\"Trex custom\", image)\n",
    "cv2.waitKey(0)\n",
    "\n",
    "cv2.destroyAllWindows()"
   ]
  },
  {
   "cell_type": "markdown",
   "id": "d0de3964-5f54-4b10-9923-50fdb9b58ebe",
   "metadata": {},
   "source": [
    "แสดงรูป ด้วย OpenCV\n",
    "\n",
    "image = cv2.imread(path)\n",
    "\n",
    "cv2.startWindowThread()\n",
    "\n",
    "cv2.imshow(\"Trex image\", image)\n",
    "cv2.waitKey(0)\n",
    "\n",
    "cv2.destroyAllWindows()"
   ]
  }
 ],
 "metadata": {
  "kernelspec": {
   "display_name": "Python 3",
   "language": "python",
   "name": "python3"
  },
  "language_info": {
   "codemirror_mode": {
    "name": "ipython",
    "version": 3
   },
   "file_extension": ".py",
   "mimetype": "text/x-python",
   "name": "python",
   "nbconvert_exporter": "python",
   "pygments_lexer": "ipython3",
   "version": "3.8.8"
  }
 },
 "nbformat": 4,
 "nbformat_minor": 5
}
